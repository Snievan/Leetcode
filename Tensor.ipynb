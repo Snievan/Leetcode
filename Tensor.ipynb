{
  "nbformat": 4,
  "nbformat_minor": 0,
  "metadata": {
    "colab": {
      "name": "Tensor.ipynb",
      "provenance": [],
      "mount_file_id": "1latsiaJ8Xk_G-KvWtRolMTjzzB5dRvp0",
      "authorship_tag": "ABX9TyM33GWV1dGq1lApL9byDhuW",
      "include_colab_link": true
    },
    "kernelspec": {
      "name": "python3",
      "display_name": "Python 3"
    }
  },
  "cells": [
    {
      "cell_type": "markdown",
      "metadata": {
        "id": "view-in-github",
        "colab_type": "text"
      },
      "source": [
        "<a href=\"https://colab.research.google.com/github/Snievan/Leetcode/blob/master/Tensor.ipynb\" target=\"_parent\"><img src=\"https://colab.research.google.com/assets/colab-badge.svg\" alt=\"Open In Colab\"/></a>"
      ]
    },
    {
      "cell_type": "markdown",
      "metadata": {
        "id": "LBf5XrnkKoEz",
        "colab_type": "text"
      },
      "source": [
        "# This is Sections 1\n",
        "$ y = x^2 $"
      ]
    },
    {
      "cell_type": "markdown",
      "metadata": {
        "id": "pmIAyoIjzMtz",
        "colab_type": "text"
      },
      "source": [
        "this is sub part"
      ]
    },
    {
      "cell_type": "code",
      "metadata": {
        "id": "zZcZgmiRzf9h",
        "colab_type": "code",
        "colab": {
          "base_uri": "https://localhost:8080/",
          "height": 91
        },
        "outputId": "8f3d32b9-20d7-4bf4-f119-d6298e11af06"
      },
      "source": [
        "import tensorflow as tf\n",
        "print(tf.__version__)\n",
        "\n",
        "from matplotlib import pyplot as plt\n",
        "from tensorflow import keras\n",
        "from tensorflow.keras.layers import Dense,Dropout,Input,Flatten\n",
        "\n",
        "(X_train,Y_train),(X_test,Y_test) = tf.keras.datasets.mnist.load_data()"
      ],
      "execution_count": null,
      "outputs": [
        {
          "output_type": "stream",
          "text": [
            "2.3.0\n",
            "Downloading data from https://storage.googleapis.com/tensorflow/tf-keras-datasets/mnist.npz\n",
            "11493376/11490434 [==============================] - 0s 0us/step\n"
          ],
          "name": "stdout"
        }
      ]
    },
    {
      "cell_type": "code",
      "metadata": {
        "id": "aU9Oxu-gojpd",
        "colab_type": "code",
        "colab": {
          "base_uri": "https://localhost:8080/",
          "height": 341
        },
        "outputId": "b3996248-be1f-492d-9416-12d937152b60"
      },
      "source": [
        "inputs = keras.Input(shape = (28,28) ,name = 'L1_input')\n",
        "X = Flatten(name='L2_Flatten')(inputs)\n",
        "X = Dense(units = 128, activation='relu', name='L3_Dense')(X)\n",
        "X = Dropout(0.2)(X)\n",
        "outputs = Dense(units = 10, activation='softmax')(X)\n",
        "model = keras.Model(inputs = inputs , outputs = outputs)\n",
        "\n",
        "model.summary()"
      ],
      "execution_count": null,
      "outputs": [
        {
          "output_type": "stream",
          "text": [
            "Model: \"functional_1\"\n",
            "_________________________________________________________________\n",
            "Layer (type)                 Output Shape              Param #   \n",
            "=================================================================\n",
            "L1_input (InputLayer)        [(None, 28, 28)]          0         \n",
            "_________________________________________________________________\n",
            "L2_Flatten (Flatten)         (None, 784)               0         \n",
            "_________________________________________________________________\n",
            "L3_Dense (Dense)             (None, 128)               100480    \n",
            "_________________________________________________________________\n",
            "dropout (Dropout)            (None, 128)               0         \n",
            "_________________________________________________________________\n",
            "dense (Dense)                (None, 10)                1290      \n",
            "=================================================================\n",
            "Total params: 101,770\n",
            "Trainable params: 101,770\n",
            "Non-trainable params: 0\n",
            "_________________________________________________________________\n"
          ],
          "name": "stdout"
        }
      ]
    },
    {
      "cell_type": "markdown",
      "metadata": {
        "id": "y9E_Pu488Xh3",
        "colab_type": "text"
      },
      "source": [
        "# New Section"
      ]
    },
    {
      "cell_type": "code",
      "metadata": {
        "id": "nQmkWTI7z_Lz",
        "colab_type": "code",
        "colab": {}
      },
      "source": [
        "model.compile(optimizer='adam',\n",
        "    loss = 'sparse_categorical_crossentropy',\n",
        "    metrics= ['acc'])"
      ],
      "execution_count": null,
      "outputs": []
    },
    {
      "cell_type": "markdown",
      "metadata": {
        "id": "RjfeOH7Sqto-",
        "colab_type": "text"
      },
      "source": [
        ""
      ]
    },
    {
      "cell_type": "markdown",
      "metadata": {
        "id": "KzxE4RJzqtNo",
        "colab_type": "text"
      },
      "source": [
        ""
      ]
    },
    {
      "cell_type": "code",
      "metadata": {
        "id": "pALtI_-t0z40",
        "colab_type": "code",
        "colab": {
          "base_uri": "https://localhost:8080/",
          "height": 217
        },
        "outputId": "5b6387f9-8d6e-481c-84cf-c136c21038eb"
      },
      "source": [
        "history = model.fit(X_train,Y_train,epochs = 5,\n",
        "                    validation_data=(X_test,Y_test))"
      ],
      "execution_count": null,
      "outputs": [
        {
          "output_type": "stream",
          "text": [
            "Epoch 1/5\n",
            "1875/1875 [==============================] - 4s 2ms/step - loss: 2.4682 - acc: 0.7572 - val_loss: 0.5215 - val_acc: 0.8825\n",
            "Epoch 2/5\n",
            "1875/1875 [==============================] - 4s 2ms/step - loss: 0.5875 - acc: 0.8446 - val_loss: 0.3954 - val_acc: 0.9041\n",
            "Epoch 3/5\n",
            "1875/1875 [==============================] - 4s 2ms/step - loss: 0.4841 - acc: 0.8716 - val_loss: 0.2952 - val_acc: 0.9236\n",
            "Epoch 4/5\n",
            "1875/1875 [==============================] - 4s 2ms/step - loss: 0.4214 - acc: 0.8866 - val_loss: 0.2755 - val_acc: 0.9326\n",
            "Epoch 5/5\n",
            "1875/1875 [==============================] - 4s 2ms/step - loss: 0.3972 - acc: 0.8961 - val_loss: 0.2755 - val_acc: 0.9345\n"
          ],
          "name": "stdout"
        }
      ]
    },
    {
      "cell_type": "code",
      "metadata": {
        "id": "kA1zsSyQI4IA",
        "colab_type": "code",
        "colab": {}
      },
      "source": [
        ""
      ],
      "execution_count": null,
      "outputs": []
    },
    {
      "cell_type": "markdown",
      "metadata": {
        "id": "ti_RO5lnI8NE",
        "colab_type": "text"
      },
      "source": [
        ""
      ]
    },
    {
      "cell_type": "code",
      "metadata": {
        "id": "T8yxjyEQI6kO",
        "colab_type": "code",
        "colab": {}
      },
      "source": [
        ""
      ],
      "execution_count": null,
      "outputs": []
    },
    {
      "cell_type": "code",
      "metadata": {
        "id": "QusAwM7-032u",
        "colab_type": "code",
        "colab": {
          "base_uri": "https://localhost:8080/",
          "height": 185
        },
        "outputId": "c70faa0a-d9c6-409a-feac-e29fbfdc5dd7"
      },
      "source": [
        "with tf.device('/gpu:0'):\n",
        "  history = model.fit(X_train,Y_train,epochs = 5,\n",
        "                   validation_data=(X_test,Y_test))"
      ],
      "execution_count": null,
      "outputs": [
        {
          "output_type": "stream",
          "text": [
            "Epoch 1/5\n",
            "1875/1875 [==============================] - 5s 2ms/step - loss: 0.3781 - acc: 0.9014 - val_loss: 0.3303 - val_acc: 0.9289\n",
            "Epoch 2/5\n",
            "1875/1875 [==============================] - 4s 2ms/step - loss: 0.3594 - acc: 0.9045 - val_loss: 0.2666 - val_acc: 0.9425\n",
            "Epoch 3/5\n",
            "1875/1875 [==============================] - 4s 2ms/step - loss: 0.3480 - acc: 0.9105 - val_loss: 0.3002 - val_acc: 0.9425\n",
            "Epoch 4/5\n",
            "1875/1875 [==============================] - 4s 2ms/step - loss: 0.3385 - acc: 0.9141 - val_loss: 0.3342 - val_acc: 0.9416\n",
            "Epoch 5/5\n",
            "1875/1875 [==============================] - 4s 2ms/step - loss: 0.3239 - acc: 0.9180 - val_loss: 0.2933 - val_acc: 0.9400\n"
          ],
          "name": "stdout"
        }
      ]
    },
    {
      "cell_type": "code",
      "metadata": {
        "id": "zgPeJ8hF1C5G",
        "colab_type": "code",
        "colab": {
          "base_uri": "https://localhost:8080/",
          "height": 126
        },
        "outputId": "cb441238-6812-4f74-d97c-92570aad8f16"
      },
      "source": [
        "print(\"haha\")\n",
        "tf.test.is_gpu_available()"
      ],
      "execution_count": null,
      "outputs": [
        {
          "output_type": "stream",
          "text": [
            "haha\n",
            "WARNING:tensorflow:From <ipython-input-10-91c4ffda4472>:2: is_gpu_available (from tensorflow.python.framework.test_util) is deprecated and will be removed in a future version.\n",
            "Instructions for updating:\n",
            "Use `tf.config.list_physical_devices('GPU')` instead.\n"
          ],
          "name": "stdout"
        },
        {
          "output_type": "execute_result",
          "data": {
            "text/plain": [
              "False"
            ]
          },
          "metadata": {
            "tags": []
          },
          "execution_count": 10
        }
      ]
    },
    {
      "cell_type": "code",
      "metadata": {
        "id": "nIc8fp2DL8LS",
        "colab_type": "code",
        "colab": {
          "base_uri": "https://localhost:8080/",
          "height": 35
        },
        "outputId": "41fea3c5-7d68-430e-97a3-364bad610d83"
      },
      "source": [
        "import os\n",
        "os.getcwd()"
      ],
      "execution_count": null,
      "outputs": [
        {
          "output_type": "execute_result",
          "data": {
            "application/vnd.google.colaboratory.intrinsic+json": {
              "type": "string"
            },
            "text/plain": [
              "'/content'"
            ]
          },
          "metadata": {
            "tags": []
          },
          "execution_count": 17
        }
      ]
    },
    {
      "cell_type": "code",
      "metadata": {
        "id": "6gMAY7ikMnNO",
        "colab_type": "code",
        "colab": {
          "base_uri": "https://localhost:8080/",
          "height": 35
        },
        "outputId": "0c327699-200d-486b-dc2c-0f584989acf1"
      },
      "source": [
        "with open(r'/content/tmp.txt') as f:\n",
        "  c = f.read()\n",
        "  print(c)"
      ],
      "execution_count": null,
      "outputs": [
        {
          "output_type": "stream",
          "text": [
            "I hvae a pen\n"
          ],
          "name": "stdout"
        }
      ]
    },
    {
      "cell_type": "code",
      "metadata": {
        "id": "akRev5FnNJx7",
        "colab_type": "code",
        "colab": {
          "base_uri": "https://localhost:8080/",
          "height": 478
        },
        "outputId": "441d2d12-3cfd-4b90-e49e-a142601506c1"
      },
      "source": [
        "import os\n",
        "for dirname, _, filenames in os.walk('/content'):\n",
        "    for filename in filenames:\n",
        "        print(os.path.join(dirname, filename))"
      ],
      "execution_count": null,
      "outputs": [
        {
          "output_type": "stream",
          "text": [
            "/content/新建文本文档.txt\n",
            "/content/Untitled1.ipynb\n",
            "/content/tmp.txt\n",
            "/content/Practise.ipynb\n",
            "/content/.config/gce\n",
            "/content/.config/config_sentinel\n",
            "/content/.config/.last_survey_prompt.yaml\n",
            "/content/.config/.last_update_check.json\n",
            "/content/.config/active_config\n",
            "/content/.config/.last_opt_in_prompt.yaml\n",
            "/content/.config/.metricsUUID\n",
            "/content/.config/configurations/config_default\n",
            "/content/.config/logs/2020.07.30/16.29.12.069758.log\n",
            "/content/.config/logs/2020.07.30/16.29.49.434074.log\n",
            "/content/.config/logs/2020.07.30/16.30.04.254570.log\n",
            "/content/.config/logs/2020.07.30/16.30.04.899171.log\n",
            "/content/.config/logs/2020.07.30/16.29.30.511119.log\n",
            "/content/.config/logs/2020.07.30/16.29.44.119840.log\n",
            "/content/drive/My Drive/Colab Notebooks/liwenhe.ipynb\n",
            "/content/drive/My Drive/Colab Notebooks/Tensor.ipynb\n",
            "/content/sample_data/anscombe.json\n",
            "/content/sample_data/README.md\n",
            "/content/sample_data/california_housing_test.csv\n",
            "/content/sample_data/mnist_test.csv\n",
            "/content/sample_data/mnist_train_small.csv\n",
            "/content/sample_data/california_housing_train.csv\n"
          ],
          "name": "stdout"
        }
      ]
    },
    {
      "cell_type": "code",
      "metadata": {
        "id": "zYnIP_sANlq-",
        "colab_type": "code",
        "colab": {}
      },
      "source": [
        ""
      ],
      "execution_count": null,
      "outputs": []
    }
  ]
}